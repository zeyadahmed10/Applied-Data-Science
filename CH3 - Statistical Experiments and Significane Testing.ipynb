{
 "cells": [
  {
   "cell_type": "markdown",
   "id": "3da478aa",
   "metadata": {},
   "source": [
    "## Chapter 3. Statistial Experiments and Significance Testing"
   ]
  },
  {
   "cell_type": "markdown",
   "id": "87f35214",
   "metadata": {},
   "source": [
    "The key idea of this chapter that humans tend to be fooled by randomness(to see pattern in data that is generated due random chance) so how to not be fooled?<br>\n",
    "Is by doing hypothesis testing given a model that embodies the null hypothesis(random chance) what is the probability of obtaining results as unsual or exterme as the observed results.<br>\n",
    "By comparing the resulted prob. to alpha(threshold of unusualness) this gives us that the observed pattern is statistically significant.<br>"
   ]
  },
  {
   "cell_type": "markdown",
   "id": "0e0942a9",
   "metadata": {},
   "source": [
    "Types of Hypothesis Tests:\n",
    "- t-test for one numerical or one numerical with one categorical.\n",
    "- Chi-test for two categorical variables.\n",
    "- ANOVA Often used similarly to a t-test, but for more than two groups.<br>\n",
    "There are other test but this what was discussed by the authors."
   ]
  },
  {
   "cell_type": "markdown",
   "id": "1fec17c2",
   "metadata": {},
   "source": [
    "Import required packages"
   ]
  },
  {
   "cell_type": "code",
   "execution_count": 1,
   "id": "540cc53d",
   "metadata": {},
   "outputs": [],
   "source": [
    "%matplotlib inline\n",
    "\n",
    "from pathlib import Path\n",
    "import random\n",
    "\n",
    "import pandas as pd\n",
    "import numpy as np\n",
    "\n",
    "from scipy import stats\n",
    "import statsmodels.api as sm\n",
    "import statsmodels.formula.api as smf\n",
    "from statsmodels.stats import power\n",
    "\n",
    "import matplotlib.pylab as plt\n",
    "import seaborn as sns"
   ]
  },
  {
   "cell_type": "markdown",
   "id": "06ce60e0",
   "metadata": {},
   "source": [
    "Define data path."
   ]
  },
  {
   "cell_type": "code",
   "execution_count": 2,
   "id": "af259a4f",
   "metadata": {},
   "outputs": [],
   "source": [
    "BREAST_CANCER = 'data/mine/breast_cancer.csv'\n",
    "HEART_FAILURE = 'data/mine/heart_failure.csv'\n",
    "MEDICAL_INSURANCE = 'data/mine/insurance.csv'\n",
    "TELCO_CUST_CHURN = 'data/mine/telco-churn.csv'"
   ]
  },
  {
   "cell_type": "code",
   "execution_count": 3,
   "id": "fae865c4",
   "metadata": {},
   "outputs": [],
   "source": [
    "insurance_df = pd.read_csv(MEDICAL_INSURANCE)"
   ]
  },
  {
   "cell_type": "code",
   "execution_count": 4,
   "id": "780697b4",
   "metadata": {},
   "outputs": [
    {
     "data": {
      "text/plain": [
       "array(['southwest', 'southeast', 'northwest', 'northeast'], dtype=object)"
      ]
     },
     "execution_count": 4,
     "metadata": {},
     "output_type": "execute_result"
    }
   ],
   "source": [
    "insurance_df.head()\n",
    "insurance_df.region.unique()"
   ]
  },
  {
   "cell_type": "code",
   "execution_count": 5,
   "id": "085e4037",
   "metadata": {},
   "outputs": [],
   "source": [
    "charges_sample = insurance_df[(insurance_df.region== 'southwest') | (insurance_df.region== 'northeast')][['charges','region']]\n",
    "#northwest = insurance_df[insurance_df.region== 'northwest']['charges']"
   ]
  },
  {
   "cell_type": "code",
   "execution_count": 6,
   "id": "8f8af3f0",
   "metadata": {},
   "outputs": [
    {
     "data": {
      "text/html": [
       "<div>\n",
       "<style scoped>\n",
       "    .dataframe tbody tr th:only-of-type {\n",
       "        vertical-align: middle;\n",
       "    }\n",
       "\n",
       "    .dataframe tbody tr th {\n",
       "        vertical-align: top;\n",
       "    }\n",
       "\n",
       "    .dataframe thead th {\n",
       "        text-align: right;\n",
       "    }\n",
       "</style>\n",
       "<table border=\"1\" class=\"dataframe\">\n",
       "  <thead>\n",
       "    <tr style=\"text-align: right;\">\n",
       "      <th></th>\n",
       "      <th>charges</th>\n",
       "      <th>region</th>\n",
       "    </tr>\n",
       "  </thead>\n",
       "  <tbody>\n",
       "    <tr>\n",
       "      <th>0</th>\n",
       "      <td>16884.92400</td>\n",
       "      <td>southwest</td>\n",
       "    </tr>\n",
       "    <tr>\n",
       "      <th>8</th>\n",
       "      <td>6406.41070</td>\n",
       "      <td>northeast</td>\n",
       "    </tr>\n",
       "    <tr>\n",
       "      <th>10</th>\n",
       "      <td>2721.32080</td>\n",
       "      <td>northeast</td>\n",
       "    </tr>\n",
       "    <tr>\n",
       "      <th>12</th>\n",
       "      <td>1826.84300</td>\n",
       "      <td>southwest</td>\n",
       "    </tr>\n",
       "    <tr>\n",
       "      <th>15</th>\n",
       "      <td>1837.23700</td>\n",
       "      <td>southwest</td>\n",
       "    </tr>\n",
       "    <tr>\n",
       "      <th>...</th>\n",
       "      <td>...</td>\n",
       "      <td>...</td>\n",
       "    </tr>\n",
       "    <tr>\n",
       "      <th>1329</th>\n",
       "      <td>10325.20600</td>\n",
       "      <td>southwest</td>\n",
       "    </tr>\n",
       "    <tr>\n",
       "      <th>1331</th>\n",
       "      <td>10795.93733</td>\n",
       "      <td>southwest</td>\n",
       "    </tr>\n",
       "    <tr>\n",
       "      <th>1332</th>\n",
       "      <td>11411.68500</td>\n",
       "      <td>southwest</td>\n",
       "    </tr>\n",
       "    <tr>\n",
       "      <th>1334</th>\n",
       "      <td>2205.98080</td>\n",
       "      <td>northeast</td>\n",
       "    </tr>\n",
       "    <tr>\n",
       "      <th>1336</th>\n",
       "      <td>2007.94500</td>\n",
       "      <td>southwest</td>\n",
       "    </tr>\n",
       "  </tbody>\n",
       "</table>\n",
       "<p>649 rows × 2 columns</p>\n",
       "</div>"
      ],
      "text/plain": [
       "          charges     region\n",
       "0     16884.92400  southwest\n",
       "8      6406.41070  northeast\n",
       "10     2721.32080  northeast\n",
       "12     1826.84300  southwest\n",
       "15     1837.23700  southwest\n",
       "...           ...        ...\n",
       "1329  10325.20600  southwest\n",
       "1331  10795.93733  southwest\n",
       "1332  11411.68500  southwest\n",
       "1334   2205.98080  northeast\n",
       "1336   2007.94500  southwest\n",
       "\n",
       "[649 rows x 2 columns]"
      ]
     },
     "execution_count": 6,
     "metadata": {},
     "output_type": "execute_result"
    }
   ],
   "source": [
    "charges_sample"
   ]
  },
  {
   "cell_type": "code",
   "execution_count": 7,
   "id": "8841fee3",
   "metadata": {},
   "outputs": [
    {
     "data": {
      "image/png": "[encoded data removed]",
      "text/plain": [
       "<Figure size 432x288 with 1 Axes>"
      ]
     },
     "metadata": {
      "needs_background": "light"
     },
     "output_type": "display_data"
    }
   ],
   "source": [
    "ax = sns.boxplot(x=\"region\", y=\"charges\", data=charges_sample)"
   ]
  },
  {
   "cell_type": "code",
   "execution_count": 8,
   "id": "8b0c0e60",
   "metadata": {},
   "outputs": [
    {
     "name": "stdout",
     "output_type": "stream",
     "text": [
      "1059.4471390934905\n"
     ]
    }
   ],
   "source": [
    "mean_southwest= charges_sample[charges_sample.region== 'southwest']['charges'].mean()\n",
    "mean_northeast=charges_sample[charges_sample.region== 'northeast']['charges'].mean()\n",
    "print(mean_northeast - mean_southwest)"
   ]
  },
  {
   "cell_type": "markdown",
   "id": "0f7c833e",
   "metadata": {},
   "source": [
    "As shown in boxplot and difference in mean that northeast have greater charges for medical insurance by 1059 USD so is it due random chance or there is real difference( look as the range of charges in northeast from the boxplot)"
   ]
  },
  {
   "cell_type": "markdown",
   "id": "d5dca9c0",
   "metadata": {},
   "source": [
    "So first we need to formulate hypothesis"
   ]
  },
  {
   "cell_type": "markdown",
   "id": "254557d9",
   "metadata": {},
   "source": [
    "The null hypothesis: There is no difference between the two regions means (groups) and any difference is due chance<br>\n",
    "The Alternative hypothesis: There is difference.<br>\n",
    "This can be tested by permuatation test and t-test."
   ]
  },
  {
   "cell_type": "markdown",
   "id": "6dfb44a8",
   "metadata": {},
   "source": [
    "## Permutation Test"
   ]
  },
  {
   "cell_type": "code",
   "execution_count": 9,
   "id": "ec3e8b63",
   "metadata": {},
   "outputs": [
    {
     "data": {
      "text/plain": [
       "355.4964914113407"
      ]
     },
     "execution_count": 9,
     "metadata": {},
     "output_type": "execute_result"
    }
   ],
   "source": [
    "def perm_fun(x, nA, nB):\n",
    "    n = nA + nB\n",
    "    idx_B = set(random.sample(range(n), nB))\n",
    "    idx_A = set(range(n)) - idx_B\n",
    "    return x.loc[idx_B].mean() - x.loc[idx_A].mean()\n",
    "nA = charges_sample[charges_sample.region== 'southwest'].shape[0]\n",
    "nB = charges_sample[charges_sample.region== 'northeast'].shape[0]\n",
    "\n",
    "charges_sample.reset_index(drop=True,inplace=True)\n",
    "\n",
    "perm_fun(charges_sample.charges,nA,nB)"
   ]
  },
  {
   "cell_type": "code",
   "execution_count": 10,
   "id": "fd0cd44b",
   "metadata": {},
   "outputs": [
    {
     "data": {
      "image/png": "[encoded data removed]",
      "text/plain": [
       "<Figure size 360x360 with 1 Axes>"
      ]
     },
     "metadata": {
      "needs_background": "light"
     },
     "output_type": "display_data"
    }
   ],
   "source": [
    "mean_perm_diff= [perm_fun(charges_sample.charges,nA,nB) for _ in range(1000)]\n",
    "fig, ax = plt.subplots(figsize=(5, 5))\n",
    "ax.hist(mean_perm_diff, bins=11,)\n",
    "ax.axvline(x = mean_northeast - mean_southwest, color='black', lw=2)\n",
    "ax.text(50, 190, 'Observed\\ndifference', bbox={'facecolor':'white'})\n",
    "ax.set_xlabel('Charges differences (in USD)')\n",
    "ax.set_ylabel('Frequency')\n",
    "\n",
    "plt.tight_layout()\n",
    "plt.show()"
   ]
  },
  {
   "cell_type": "markdown",
   "id": "cc7fb870",
   "metadata": {},
   "source": [
    "## t-test:\n",
    "By setting alpha to 0.05 we start to calculate the p-value and t-test"
   ]
  },
  {
   "cell_type": "code",
   "execution_count": 11,
   "id": "39d40685",
   "metadata": {},
   "outputs": [
    {
     "name": "stdout",
     "output_type": "stream",
     "text": [
      "the calculated p-value from perm test  0.107\n"
     ]
    }
   ],
   "source": [
    "aux_array =np.asarray(mean_perm_diff) >= (mean_northeast - mean_southwest)\n",
    "print('the calculated p-value from perm test ' ,np.mean(aux_array))"
   ]
  },
  {
   "cell_type": "code",
   "execution_count": 12,
   "id": "448df325",
   "metadata": {},
   "outputs": [],
   "source": [
    "res = stats.ttest_ind(charges_sample[charges_sample.region== 'southwest']['charges'],\n",
    "                      charges_sample[charges_sample.region== 'northeast']['charges'],equal_var=True,\n",
    "                    )"
   ]
  },
  {
   "cell_type": "code",
   "execution_count": 13,
   "id": "679e2a1d",
   "metadata": {},
   "outputs": [
    {
     "name": "stdout",
     "output_type": "stream",
     "text": [
      "The calculated p-value from ttest  0.23725708144582303\n"
     ]
    }
   ],
   "source": [
    "print('The calculated p-value from ttest ',res.pvalue)"
   ]
  },
  {
   "cell_type": "markdown",
   "id": "f4c75f67",
   "metadata": {},
   "source": [
    "There is a difference from SciPy esitmation for the P-value and the calculated one from the Permuation Test but both suppert that the difference is due chance (P-value> aplha)"
   ]
  },
  {
   "cell_type": "markdown",
   "id": "8a4795b9",
   "metadata": {},
   "source": [
    "## ANOVA\n",
    "we will do like the ttest but for multiple groups"
   ]
  },
  {
   "cell_type": "code",
   "execution_count": 14,
   "id": "e35a3a6d",
   "metadata": {},
   "outputs": [],
   "source": [
    "charges_group = insurance_df[['region','charges']]"
   ]
  },
  {
   "cell_type": "code",
   "execution_count": 15,
   "id": "e158ca11",
   "metadata": {},
   "outputs": [
    {
     "data": {
      "image/png": "[encoded data removed]",
      "text/plain": [
       "<Figure size 504x504 with 1 Axes>"
      ]
     },
     "metadata": {
      "needs_background": "light"
     },
     "output_type": "display_data"
    }
   ],
   "source": [
    "ax = charges_group.boxplot(by='region', column='charges',\n",
    "                           figsize=(7, 7))\n",
    "ax.set_xlabel('Region')\n",
    "ax.set_ylabel('Charges (in USD)')\n",
    "plt.suptitle('')\n",
    "plt.title('')\n",
    "\n",
    "plt.tight_layout()\n",
    "plt.show()"
   ]
  },
  {
   "cell_type": "code",
   "execution_count": 16,
   "id": "9d3efd80",
   "metadata": {},
   "outputs": [],
   "source": [
    "observed_variance = charges_group.groupby('region').mean().var()[0]"
   ]
  },
  {
   "cell_type": "code",
   "execution_count": 17,
   "id": "5ab6d0e0",
   "metadata": {},
   "outputs": [
    {
     "name": "stdout",
     "output_type": "stream",
     "text": [
      "Observed means:                 charges\n",
      "region                 \n",
      "northeast  13406.384516\n",
      "northwest  12417.575374\n",
      "southeast  14735.411438\n",
      "southwest  12346.937377\n",
      "Variance between group means: 1245720.5332746778\n"
     ]
    }
   ],
   "source": [
    "print('Observed means:', charges_group.groupby('region').mean())\n",
    "print('Variance between group means:', observed_variance)"
   ]
  },
  {
   "cell_type": "code",
   "execution_count": 18,
   "id": "7491a1f5",
   "metadata": {},
   "outputs": [],
   "source": [
    "def perm_anova(x):\n",
    "    x = x.copy()\n",
    "    x['charges'] = np.random.permutation(x['charges'].values)\n",
    "    return x.groupby('region').mean().var()[0]"
   ]
  },
  {
   "cell_type": "code",
   "execution_count": 19,
   "id": "adbd1efa",
   "metadata": {},
   "outputs": [
    {
     "name": "stdout",
     "output_type": "stream",
     "text": [
      "Pr(Prob) 0.039\n"
     ]
    },
    {
     "data": {
      "image/png": "[encoded data removed]",
      "text/plain": [
       "<Figure size 360x360 with 1 Axes>"
      ]
     },
     "metadata": {
      "needs_background": "light"
     },
     "output_type": "display_data"
    }
   ],
   "source": [
    "perm_variance = [perm_anova(charges_group) for _ in range(3000)]\n",
    "print('Pr(Prob)', np.mean([var > observed_variance for var in perm_variance]))\n",
    "\n",
    "fig, ax = plt.subplots(figsize=(5, 5))\n",
    "ax.hist(perm_variance, bins=11, rwidth=0.9)\n",
    "ax.axvline(x = observed_variance, color='black', lw=2)\n",
    "ax.text(1.3e6, 400, 'Observed\\nvariance', bbox={'facecolor':'white'})\n",
    "ax.set_xlabel('Variance')\n",
    "ax.set_ylabel('Frequency')\n",
    "\n",
    "plt.tight_layout()\n",
    "plt.show()"
   ]
  },
  {
   "cell_type": "markdown",
   "id": "566fd84a",
   "metadata": {},
   "source": [
    "## F-statistic"
   ]
  },
  {
   "cell_type": "code",
   "execution_count": 20,
   "id": "a6fbf1fb",
   "metadata": {},
   "outputs": [
    {
     "name": "stdout",
     "output_type": "stream",
     "text": [
      "              df        sum_sq       mean_sq         F    PR(>F)\n",
      "region       3.0  1.300760e+09  4.335866e+08  2.969627  0.030893\n",
      "Residual  1334.0  1.947735e+11  1.460071e+08       NaN       NaN\n"
     ]
    }
   ],
   "source": [
    "# fit linear model using statsmodel because is gives more statistical info.\n",
    "model = smf.ols('charges ~ region', data=insurance_df).fit()\n",
    "                \n",
    "aov_table = sm.stats.anova_lm(model)\n",
    "#calculating the aov table for linear fitted model\n",
    "print(aov_table)"
   ]
  },
  {
   "cell_type": "code",
   "execution_count": 21,
   "id": "4a912617",
   "metadata": {},
   "outputs": [
    {
     "name": "stdout",
     "output_type": "stream",
     "text": [
      "F-Statistic: 1.4848\n",
      "p-value: 0.0154\n"
     ]
    }
   ],
   "source": [
    "res = stats.f_oneway(insurance_df[insurance_df.region == 'northeast'].charges, \n",
    "                     insurance_df[insurance_df.region == 'northwest'].charges,\n",
    "                     insurance_df[insurance_df.region == 'southeast'].charges,\n",
    "                     insurance_df[insurance_df.region == 'southwest'].charges)\n",
    "print(f'F-Statistic: {res.statistic / 2:.4f}')\n",
    "print(f'p-value: {res.pvalue / 2:.4f}')"
   ]
  },
  {
   "cell_type": "code",
   "execution_count": null,
   "id": "fa65aa1e",
   "metadata": {},
   "outputs": [],
   "source": []
  }
 ],
 "metadata": {
  "kernelspec": {
   "display_name": "Python 3",
   "language": "python",
   "name": "python3"
  },
  "language_info": {
   "codemirror_mode": {
    "name": "ipython",
    "version": 3
   },
   "file_extension": ".py",
   "mimetype": "text/x-python",
   "name": "python",
   "nbconvert_exporter": "python",
   "pygments_lexer": "ipython3",
   "version": "3.8.8"
  }
 },
 "nbformat": 4,
 "nbformat_minor": 5
}
