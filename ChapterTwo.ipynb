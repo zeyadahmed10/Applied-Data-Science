{
 "cells": [
  {
   "cell_type": "markdown",
   "id": "ea595df0",
   "metadata": {},
   "source": [
    "## Chapter 2. Data and Sampling Distributions"
   ]
  },
  {
   "cell_type": "markdown",
   "id": "1c871fb4",
   "metadata": {},
   "source": [
    "In this chapter the author shows the misconception holds that the era of big data means the end of a need for sampling.<br>\n",
    "Starting by explaining random and bias sampling, bias effects and sampling techniques.<br>\n",
    "Showing the power of bootstrap and how we can use to estimate sampling distribution of a statistic or of model parameters and how much we are confidence that the real statistic will be in this sample distribution.<br>\n",
    "At the end shows the popular distributions."
   ]
  },
  {
   "cell_type": "markdown",
   "id": "0485d55f",
   "metadata": {},
   "source": [
    "Import required packages`"
   ]
  },
  {
   "cell_type": "code",
   "execution_count": 1,
   "id": "69762ba2",
   "metadata": {},
   "outputs": [],
   "source": [
    "%matplotlib inline\n",
    "\n",
    "from pathlib import Path\n",
    "import pandas as pd\n",
    "import numpy as np\n",
    "from scipy import stats\n",
    "from sklearn.utils import resample\n",
    "\n",
    "import seaborn as sns\n",
    "import matplotlib.pylab as plt"
   ]
  },
  {
   "cell_type": "markdown",
   "id": "477dc4d1",
   "metadata": {},
   "source": [
    "Define Data Path"
   ]
  },
  {
   "cell_type": "code",
   "execution_count": 3,
   "id": "c2f6010b",
   "metadata": {},
   "outputs": [],
   "source": [
    "BREAST_CANCER = 'data/mine/breast_cancer.csv'\n",
    "HEART_FAILURE = 'data/mine/heart_failure.csv'\n",
    "MEDICAL_INSURANCE = 'data/mine/insurance.csv'\n",
    "TELCO_CUST_CHURN = 'data/mine/telco-churn.csv'"
   ]
  },
  {
   "cell_type": "code",
   "execution_count": 4,
   "id": "92810888",
   "metadata": {},
   "outputs": [],
   "source": [
    "#changing the plotting style\n",
    "plt.style.use('fivethirtyeight')"
   ]
  },
  {
   "cell_type": "code",
   "execution_count": 6,
   "id": "ac1b1cf8",
   "metadata": {},
   "outputs": [
    {
     "data": {
      "text/html": [
       "<div>\n",
       "<style scoped>\n",
       "    .dataframe tbody tr th:only-of-type {\n",
       "        vertical-align: middle;\n",
       "    }\n",
       "\n",
       "    .dataframe tbody tr th {\n",
       "        vertical-align: top;\n",
       "    }\n",
       "\n",
       "    .dataframe thead th {\n",
       "        text-align: right;\n",
       "    }\n",
       "</style>\n",
       "<table border=\"1\" class=\"dataframe\">\n",
       "  <thead>\n",
       "    <tr style=\"text-align: right;\">\n",
       "      <th></th>\n",
       "      <th>age</th>\n",
       "      <th>sex</th>\n",
       "      <th>bmi</th>\n",
       "      <th>children</th>\n",
       "      <th>smoker</th>\n",
       "      <th>region</th>\n",
       "      <th>charges</th>\n",
       "    </tr>\n",
       "  </thead>\n",
       "  <tbody>\n",
       "    <tr>\n",
       "      <th>0</th>\n",
       "      <td>19</td>\n",
       "      <td>female</td>\n",
       "      <td>27.900</td>\n",
       "      <td>0</td>\n",
       "      <td>yes</td>\n",
       "      <td>southwest</td>\n",
       "      <td>16884.92400</td>\n",
       "    </tr>\n",
       "    <tr>\n",
       "      <th>1</th>\n",
       "      <td>18</td>\n",
       "      <td>male</td>\n",
       "      <td>33.770</td>\n",
       "      <td>1</td>\n",
       "      <td>no</td>\n",
       "      <td>southeast</td>\n",
       "      <td>1725.55230</td>\n",
       "    </tr>\n",
       "    <tr>\n",
       "      <th>2</th>\n",
       "      <td>28</td>\n",
       "      <td>male</td>\n",
       "      <td>33.000</td>\n",
       "      <td>3</td>\n",
       "      <td>no</td>\n",
       "      <td>southeast</td>\n",
       "      <td>4449.46200</td>\n",
       "    </tr>\n",
       "    <tr>\n",
       "      <th>3</th>\n",
       "      <td>33</td>\n",
       "      <td>male</td>\n",
       "      <td>22.705</td>\n",
       "      <td>0</td>\n",
       "      <td>no</td>\n",
       "      <td>northwest</td>\n",
       "      <td>21984.47061</td>\n",
       "    </tr>\n",
       "    <tr>\n",
       "      <th>4</th>\n",
       "      <td>32</td>\n",
       "      <td>male</td>\n",
       "      <td>28.880</td>\n",
       "      <td>0</td>\n",
       "      <td>no</td>\n",
       "      <td>northwest</td>\n",
       "      <td>3866.85520</td>\n",
       "    </tr>\n",
       "  </tbody>\n",
       "</table>\n",
       "</div>"
      ],
      "text/plain": [
       "   age     sex     bmi  children smoker     region      charges\n",
       "0   19  female  27.900         0    yes  southwest  16884.92400\n",
       "1   18    male  33.770         1     no  southeast   1725.55230\n",
       "2   28    male  33.000         3     no  southeast   4449.46200\n",
       "3   33    male  22.705         0     no  northwest  21984.47061\n",
       "4   32    male  28.880         0     no  northwest   3866.85520"
      ]
     },
     "execution_count": 6,
     "metadata": {},
     "output_type": "execute_result"
    }
   ],
   "source": [
    "insurance_df = pd.read_csv(MEDICAL_INSURANCE)\n",
    "insurance_df.head()"
   ]
  },
  {
   "cell_type": "code",
   "execution_count": 8,
   "id": "4bebc0cd",
   "metadata": {},
   "outputs": [
    {
     "data": {
      "text/plain": [
       "Text(0.5, 1.0, 'Medical Insurance Charges')"
      ]
     },
     "execution_count": 8,
     "metadata": {},
     "output_type": "execute_result"
    },
    {
     "data": {
      "image/png": "[encoded data removed]",
      "text/plain": [
       "<Figure size 432x288 with 1 Axes>"
      ]
     },
     "metadata": {},
     "output_type": "display_data"
    }
   ],
   "source": [
    "plt.hist(insurance_df['charges'])\n",
    "plt.title('Medical Insurance Charges')"
   ]
  },
  {
   "cell_type": "code",
   "execution_count": 9,
   "id": "f3b15cc6",
   "metadata": {},
   "outputs": [
    {
     "name": "stdout",
     "output_type": "stream",
     "text": [
      "(1338, 7)\n"
     ]
    }
   ],
   "source": [
    "print(insurance_df.shape)"
   ]
  },
  {
   "cell_type": "code",
   "execution_count": 57,
   "id": "74b7b783",
   "metadata": {},
   "outputs": [],
   "source": [
    "sampled_data = pd.DataFrame({\n",
    "    'charges' : insurance_df['charges'].sample(500),\n",
    "})\n",
    "sample_mean_10 =pd.DataFrame({\n",
    "    'charges' : [insurance_df['charges'].sample(10).mean() for _ in range(500)],\n",
    "})\n",
    "sample_mean_25 = pd.DataFrame({\n",
    "    'charges' : [insurance_df['charges'].sample(25).mean() for _ in range(500)],\n",
    "})"
   ]
  },
  {
   "cell_type": "code",
   "execution_count": 59,
   "id": "d224ec31",
   "metadata": {},
   "outputs": [
    {
     "name": "stderr",
     "output_type": "stream",
     "text": [
      "<ipython-input-59-8235267d2e76>:5: UserWarning: Matplotlib is currently using module://ipykernel.pylab.backend_inline, which is a non-GUI backend, so cannot show the figure.\n",
      "  fig.show()\n"
     ]
    },
    {
     "data": {
      "image/png": "[encoded data removed]",
      "text/plain": [
       "<Figure size 432x288 with 4 Axes>"
      ]
     },
     "metadata": {},
     "output_type": "display_data"
    }
   ],
   "source": [
    "fig ,ax = plt.subplots(2,2)\n",
    "ax[0][0].hist(sampled_data)\n",
    "ax[0][1].hist(sample_mean_10)\n",
    "ax[1][0].hist(sample_mean_25)\n",
    "fig.show()"
   ]
  },
  {
   "cell_type": "markdown",
   "id": "be34cc01",
   "metadata": {},
   "source": [
    "## The Bootstrap"
   ]
  },
  {
   "cell_type": "code",
   "execution_count": 70,
   "id": "a11a22eb",
   "metadata": {},
   "outputs": [
    {
     "name": "stdout",
     "output_type": "stream",
     "text": [
      "Bootstrap Statistics:\n",
      "original:  9382.033\n",
      "bias:  -25.53184230000261\n",
      "std. error: 280.64493992167195\n"
     ]
    }
   ],
   "source": [
    "results = [resample(insurance_df['charges']).median() for _ in range(1000)]\n",
    "results = pd.Series(results)\n",
    "print('Bootstrap Statistics:')\n",
    "print('original: ',insurance_df['charges'].median())\n",
    "print('bias: ', results.mean() - insurance_df['charges'].median())\n",
    "print(f'std. error: {results.std()}')"
   ]
  },
  {
   "cell_type": "code",
   "execution_count": null,
   "id": "8547c69d",
   "metadata": {},
   "outputs": [],
   "source": []
  }
 ],
 "metadata": {
  "kernelspec": {
   "display_name": "Python 3",
   "language": "python",
   "name": "python3"
  },
  "language_info": {
   "codemirror_mode": {
    "name": "ipython",
    "version": 3
   },
   "file_extension": ".py",
   "mimetype": "text/x-python",
   "name": "python",
   "nbconvert_exporter": "python",
   "pygments_lexer": "ipython3",
   "version": "3.8.8"
  }
 },
 "nbformat": 4,
 "nbformat_minor": 5
}
